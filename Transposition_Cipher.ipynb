{
  "cells": [
    {
      "cell_type": "code",
      "execution_count": 1,
      "id": "b427f972",
      "metadata": {
        "id": "b427f972"
      },
      "outputs": [],
      "source": [
        "from math import ceil"
      ]
    },
    {
      "cell_type": "code",
      "execution_count": 2,
      "id": "7a5aa2f4",
      "metadata": {
        "id": "7a5aa2f4"
      },
      "outputs": [],
      "source": [
        "class TranspositionCipher(object):\n",
        "\n",
        "    def __init__(self, key):\n",
        "        # Set the key for the cipher\n",
        "        self.key = key\n",
        "\n",
        "\n",
        "    def encrypt_message(self, message):\n",
        "\n",
        "        # Convert the message to lowercase and split it into a list of characters\n",
        "        message_split = list(message.lower())\n",
        "\n",
        "        # Determine the length of the message\n",
        "        message_length = len(message_split)\n",
        "\n",
        "        # Initialize the encrypted message as an empty string\n",
        "        message_encrypted = ''\n",
        "\n",
        "        # Determine the number of rows in the encryption grid by calculating the\n",
        "        # ceiling value after dividing the message length by the key\n",
        "        message_ceil = ceil(message_length/self.key)\n",
        "\n",
        "        # Iterate over each cell and calculate the corresponding index in the message_split variable\n",
        "        for j in range(self.key):\n",
        "            for i in range(message_ceil):\n",
        "                index = j + i * self.key\n",
        "                # Check if the index is within the bounds of the message length\n",
        "                if index < message_length:\n",
        "                    # Add the character at the index position to the encrypted message\n",
        "                    message_encrypted += message_split[index]\n",
        "\n",
        "        # Return the encrypted message\n",
        "        return message_encrypted\n",
        "\n",
        "    def decrypt_message(self, message):\n",
        "\n",
        "        # Convert the message to lowercase and split it into a list of characters\n",
        "        message_split = list(message.lower())\n",
        "\n",
        "        # Determine the length of the message\n",
        "        message_length = len(message_split)\n",
        "\n",
        "        # Determine the number of columns in the decryption grid by calculating the\n",
        "        # ceiling value after dividing the message length by the key\n",
        "        message_ceil = ceil(message_length/self.key)\n",
        "\n",
        "        # Calculate the number of empty (unused) cells in the grid\n",
        "        num_empty_cells = self.key*message_ceil - message_length\n",
        "\n",
        "        # Initialize a grid for the decrypted message having as many rows as the\n",
        "        # key and as many columns as the calculated ceiling value\n",
        "        message_grid = [['' for _ in range(message_ceil)] for _ in range(self.key)]\n",
        "\n",
        "        # Initialize the decrypted message as an empty string\n",
        "        message_decrypted = ''\n",
        "\n",
        "        # Create an iterator for the split message\n",
        "        iterator = iter(message_split)\n",
        "\n",
        "        # Populate the decryption grid\n",
        "        # Iterate over the rows (from 0 to key-1)\n",
        "        for i in range(self.key):\n",
        "\n",
        "            # Determine the number of columns to populate\n",
        "            # If the row doesn't contain an empty cell, populate all cells from column = 0 to column = message_ceil\n",
        "            if i < self.key - num_empty_cells:\n",
        "                columns = message_ceil\n",
        "            # If the row contains an empty cell, populate all cells from column = 0 to column = message_ceil-1\n",
        "            else:\n",
        "                columns = message_ceil - 1\n",
        "\n",
        "            # Populate the row based on the number of columns calculated above\n",
        "            # The iterator keeps track of the current character\n",
        "            for j in range(columns):\n",
        "                message_grid[i][j] = next(iterator, None)\n",
        "\n",
        "        # Build the decrypted message from the grid\n",
        "        # Read the message column by column\n",
        "        for j in range(message_ceil):\n",
        "            for i in range(self.key):\n",
        "                message_decrypted += message_grid[i][j]\n",
        "\n",
        "        # Return the decrypted message\n",
        "        return message_decrypted"
      ]
    },
    {
      "cell_type": "code",
      "execution_count": 3,
      "id": "bab8a3c2",
      "metadata": {
        "colab": {
          "base_uri": "https://localhost:8080/",
          "height": 35
        },
        "id": "bab8a3c2",
        "outputId": "49dff7ee-9491-46e2-d8eb-3b0e54f247be"
      },
      "outputs": [
        {
          "output_type": "execute_result",
          "data": {
            "text/plain": [
              "'i ae l rfihekaeecl k'"
            ],
            "application/vnd.google.colaboratory.intrinsic+json": {
              "type": "string"
            }
          },
          "metadata": {},
          "execution_count": 3
        }
      ],
      "source": [
        "cipher = TranspositionCipher(6)\n",
        "cipher.encrypt_message('I feel like a hacker')\n"
      ]
    },
    {
      "cell_type": "code",
      "source": [
        "cipher.decrypt_message('i ae l rfihekaeecl k')"
      ],
      "metadata": {
        "colab": {
          "base_uri": "https://localhost:8080/",
          "height": 35
        },
        "id": "IEXOkofeDx6d",
        "outputId": "8c1bf4ba-724d-41f6-aea8-957d1313bc1d"
      },
      "id": "IEXOkofeDx6d",
      "execution_count": 4,
      "outputs": [
        {
          "output_type": "execute_result",
          "data": {
            "text/plain": [
              "'i feel like a hacker'"
            ],
            "application/vnd.google.colaboratory.intrinsic+json": {
              "type": "string"
            }
          },
          "metadata": {},
          "execution_count": 4
        }
      ]
    }
  ],
  "metadata": {
    "kernelspec": {
      "display_name": "Python 3 (ipykernel)",
      "language": "python",
      "name": "python3"
    },
    "language_info": {
      "codemirror_mode": {
        "name": "ipython",
        "version": 3
      },
      "file_extension": ".py",
      "mimetype": "text/x-python",
      "name": "python",
      "nbconvert_exporter": "python",
      "pygments_lexer": "ipython3",
      "version": "3.8.8"
    },
    "colab": {
      "provenance": []
    }
  },
  "nbformat": 4,
  "nbformat_minor": 5
}